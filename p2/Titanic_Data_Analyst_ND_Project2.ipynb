{
 "cells": [
  {
   "cell_type": "markdown",
   "metadata": {},
   "source": [
    "# Titanic Disaster: Data Analysis\n",
    "\n",
    "## 1. Introduction\n",
    "\n",
    "\n",
    "The sinking of the RMS Titanic is one of the most infamous shipwrecks in history.  On April 15, 1912, during her maiden voyage, the Titanic sank after colliding with an iceberg, killing 1502 out of 2224 passengers and crew. This sensational tragedy shocked the international community and led to better safety regulations for ships.\n",
    "\n",
    "One of the reasons that the shipwreck led to such loss of life was that there were not enough lifeboats for the passengers and crew. Although there was some element of luck involved in surviving the sinking, some groups of people were more likely to survive than others. In this project, we will attempt to get some insights on a few such factors.\n",
    "\n",
    "### 1.1 Project Objective\n",
    "\n",
    "In this project, we will do an analysis of what sort of passengers were able to survive and what's the age/family distribution of passengers of different class. Specifically, we will endeavour to  answer the following quesions:\n",
    "\n",
    " * What factors are related to survival chances?\n",
    "     * Which age group had the maximum chances of survival?\n",
    "     * Do class and sex influence the chances of survival?\n",
    "     * Do passengers travelling alone have lesser chances of survival compared to passengers travelling with family?\n",
    " * What pattern can we see in the passenger class?\n",
    "     * Are upper class passengers relatively older than passengers from other classes?\n",
    "     * How does the class vary between passengers embarking from different ports? \n",
    "       \n",
    "\n",
    "### 1.2 Dataset\n",
    "\n",
    "The dataset contains demographics and passenger information from 891 of the 2224 passengers and crew on board the Titanic. Following is the description of this dataset. These details can also be found on the Kaggle website (https://www.kaggle.com/c/titanic/data), where the data was obtained.\n",
    "\n",
    "```\n",
    "VARIABLE DESCRIPTIONS:\n",
    "PassengerId     Unique idntification number for a passenger\n",
    "Survived        Survival\n",
    "                (0 = No; 1 = Yes)\n",
    "Pclass          Passenger Class\n",
    "                (1 = 1st; 2 = 2nd; 3 = 3rd)\n",
    "Name            Name\n",
    "Sex             Sex\n",
    "Age             Age\n",
    "SibSp           Number of Siblings/Spouses Aboard\n",
    "Parch           Number of Parents/Children Aboard\n",
    "Ticket          Ticket Number\n",
    "Fare            Passenger Fare\n",
    "Cabin           Cabin\n",
    "Embarked        Port of Embarkation\n",
    "                (C = Cherbourg; Q = Queenstown; S = Southampton)\n",
    "\n",
    "SPECIAL NOTES:\n",
    "pclass is a proxy for socio-economic status (SES)\n",
    " 1st ~ Upper; 2nd ~ Middle; 3rd ~ Lower\n",
    "\n",
    "age is in Years; Fractional if Age less than One (1)\n",
    " If the Age is Estimated, it is in the form xx.5\n",
    "\n",
    "With respect to the family relation variables (i.e. sibsp and parch)\n",
    "some relations were ignored.  The following are the definitions used\n",
    "for sibsp and parch.\n",
    "\n",
    "Sibling:  Brother, Sister, Stepbrother, or Stepsister of Passenger Aboard Titanic\n",
    "Spouse:   Husband or Wife of Passenger Aboard Titanic (Mistresses and Fiances Ignored)\n",
    "Parent:   Mother or Father of Passenger Aboard Titanic\n",
    "Child:    Son, Daughter, Stepson, or Stepdaughter of Passenger Aboard Titanic\n",
    "\n",
    "Other family relatives excluded from this study include cousins,\n",
    "nephews/nieces, aunts/uncles, and in-laws.  Some children travelled\n",
    "only with a nanny, therefore parch=0 for them.  As well, some\n",
    "travelled with very close friends or neighbors in a village, however,\n",
    "the definitions do not support such relations.\n",
    "```\n"
   ]
  },
  {
   "cell_type": "markdown",
   "metadata": {
    "collapsed": false
   },
   "source": [
    "## 2. Data Exploration and Analysis\n",
    "\n",
    "First, we load all of the packages and functions that we'll be using in our analysis by running the first code cell below."
   ]
  },
  {
   "cell_type": "code",
   "execution_count": 105,
   "metadata": {
    "collapsed": false
   },
   "outputs": [
    {
     "name": "stdout",
     "output_type": "stream",
     "text": [
      "Populating the interactive namespace from numpy and matplotlib\n"
     ]
    }
   ],
   "source": [
    "# import all necessary packages and functions.\n",
    "import numpy as np\n",
    "import pandas as pd\n",
    "from IPython.display import display\n",
    "%pylab inline\n",
    "import matplotlib.pyplot as plt\n",
    "import seaborn as sns\n",
    "import scipy.stats as stats\n",
    "\n",
    "import warnings\n",
    "warnings.filterwarnings('ignore')"
   ]
  },
  {
   "cell_type": "markdown",
   "metadata": {},
   "source": [
    "The first step is to look at the structure of the dataset to see if there's any data wrangling we should perform. The below cell will read in the Titanic data file and print out the first few rows of the table."
   ]
  },
  {
   "cell_type": "code",
   "execution_count": 106,
   "metadata": {
    "collapsed": false
   },
   "outputs": [
    {
     "data": {
      "text/html": [
       "<div>\n",
       "<table border=\"1\" class=\"dataframe\">\n",
       "  <thead>\n",
       "    <tr style=\"text-align: right;\">\n",
       "      <th></th>\n",
       "      <th>PassengerId</th>\n",
       "      <th>Survived</th>\n",
       "      <th>Pclass</th>\n",
       "      <th>Name</th>\n",
       "      <th>Sex</th>\n",
       "      <th>Age</th>\n",
       "      <th>SibSp</th>\n",
       "      <th>Parch</th>\n",
       "      <th>Ticket</th>\n",
       "      <th>Fare</th>\n",
       "      <th>Cabin</th>\n",
       "      <th>Embarked</th>\n",
       "    </tr>\n",
       "  </thead>\n",
       "  <tbody>\n",
       "    <tr>\n",
       "      <th>0</th>\n",
       "      <td>1</td>\n",
       "      <td>0</td>\n",
       "      <td>3</td>\n",
       "      <td>Braund, Mr. Owen Harris</td>\n",
       "      <td>male</td>\n",
       "      <td>22.0</td>\n",
       "      <td>1</td>\n",
       "      <td>0</td>\n",
       "      <td>A/5 21171</td>\n",
       "      <td>7.2500</td>\n",
       "      <td>NaN</td>\n",
       "      <td>S</td>\n",
       "    </tr>\n",
       "    <tr>\n",
       "      <th>1</th>\n",
       "      <td>2</td>\n",
       "      <td>1</td>\n",
       "      <td>1</td>\n",
       "      <td>Cumings, Mrs. John Bradley (Florence Briggs Th...</td>\n",
       "      <td>female</td>\n",
       "      <td>38.0</td>\n",
       "      <td>1</td>\n",
       "      <td>0</td>\n",
       "      <td>PC 17599</td>\n",
       "      <td>71.2833</td>\n",
       "      <td>C85</td>\n",
       "      <td>C</td>\n",
       "    </tr>\n",
       "    <tr>\n",
       "      <th>2</th>\n",
       "      <td>3</td>\n",
       "      <td>1</td>\n",
       "      <td>3</td>\n",
       "      <td>Heikkinen, Miss. Laina</td>\n",
       "      <td>female</td>\n",
       "      <td>26.0</td>\n",
       "      <td>0</td>\n",
       "      <td>0</td>\n",
       "      <td>STON/O2. 3101282</td>\n",
       "      <td>7.9250</td>\n",
       "      <td>NaN</td>\n",
       "      <td>S</td>\n",
       "    </tr>\n",
       "    <tr>\n",
       "      <th>3</th>\n",
       "      <td>4</td>\n",
       "      <td>1</td>\n",
       "      <td>1</td>\n",
       "      <td>Futrelle, Mrs. Jacques Heath (Lily May Peel)</td>\n",
       "      <td>female</td>\n",
       "      <td>35.0</td>\n",
       "      <td>1</td>\n",
       "      <td>0</td>\n",
       "      <td>113803</td>\n",
       "      <td>53.1000</td>\n",
       "      <td>C123</td>\n",
       "      <td>S</td>\n",
       "    </tr>\n",
       "    <tr>\n",
       "      <th>4</th>\n",
       "      <td>5</td>\n",
       "      <td>0</td>\n",
       "      <td>3</td>\n",
       "      <td>Allen, Mr. William Henry</td>\n",
       "      <td>male</td>\n",
       "      <td>35.0</td>\n",
       "      <td>0</td>\n",
       "      <td>0</td>\n",
       "      <td>373450</td>\n",
       "      <td>8.0500</td>\n",
       "      <td>NaN</td>\n",
       "      <td>S</td>\n",
       "    </tr>\n",
       "  </tbody>\n",
       "</table>\n",
       "</div>"
      ],
      "text/plain": [
       "   PassengerId  Survived  Pclass  \\\n",
       "0            1         0       3   \n",
       "1            2         1       1   \n",
       "2            3         1       3   \n",
       "3            4         1       1   \n",
       "4            5         0       3   \n",
       "\n",
       "                                                Name     Sex   Age  SibSp  \\\n",
       "0                            Braund, Mr. Owen Harris    male  22.0      1   \n",
       "1  Cumings, Mrs. John Bradley (Florence Briggs Th...  female  38.0      1   \n",
       "2                             Heikkinen, Miss. Laina  female  26.0      0   \n",
       "3       Futrelle, Mrs. Jacques Heath (Lily May Peel)  female  35.0      1   \n",
       "4                           Allen, Mr. William Henry    male  35.0      0   \n",
       "\n",
       "   Parch            Ticket     Fare Cabin Embarked  \n",
       "0      0         A/5 21171   7.2500   NaN        S  \n",
       "1      0          PC 17599  71.2833   C85        C  \n",
       "2      0  STON/O2. 3101282   7.9250   NaN        S  \n",
       "3      0            113803  53.1000  C123        S  \n",
       "4      0            373450   8.0500   NaN        S  "
      ]
     },
     "metadata": {},
     "output_type": "display_data"
    }
   ],
   "source": [
    "#Load data from csv to a pandas df\n",
    "titanic_data = pd.read_csv(\"./titanic-data.csv\")\n",
    "\n",
    "display(titanic_data.head())"
   ]
  },
  {
   "cell_type": "markdown",
   "metadata": {},
   "source": [
    "In this exploration, we're going to concentrate on factors in the Titanic data that affect the Survival chances of passengers. We will focus down on the following columns:\n",
    "\n",
    "   * Survived\n",
    "   * Pclass\n",
    "   * Sex\n",
    "   * Age\n",
    "   * SibSp\n",
    "   * Parch\n",
    "   * Embarked\n",
    "   \n",
    "We will also add two columns: 1) AgeGroup to classify passengers based their age as described below:\n",
    "\n",
    "|Age Group|Description|\n",
    "|--|-------------------------------|\n",
    "|Children|Passengers below 19 years of age|\n",
    "|Young Adults|Passengers whose age is between 19 and 35 - both inclusive|\n",
    "|Middle-aged Adults|Passengers whose age is between 36 and 55 - both inclusive|\n",
    "|Older Adults|Passengers above 55 years of age|\n",
    "\n",
    "and 2) FamilyType to signify if the passenger was travelling alone or with the family.  A passenger is considered travelling alone if his/her \"SibSp\" and \"Parch\" field values are 0."
   ]
  },
  {
   "cell_type": "code",
   "execution_count": 107,
   "metadata": {
    "collapsed": false
   },
   "outputs": [
    {
     "data": {
      "text/html": [
       "<div>\n",
       "<table border=\"1\" class=\"dataframe\">\n",
       "  <thead>\n",
       "    <tr style=\"text-align: right;\">\n",
       "      <th></th>\n",
       "      <th>Survived</th>\n",
       "      <th>Pclass</th>\n",
       "      <th>Sex</th>\n",
       "      <th>Age</th>\n",
       "      <th>SibSp</th>\n",
       "      <th>Parch</th>\n",
       "      <th>Embarked</th>\n",
       "      <th>AgeGroup</th>\n",
       "      <th>FamilyType</th>\n",
       "    </tr>\n",
       "  </thead>\n",
       "  <tbody>\n",
       "    <tr>\n",
       "      <th>0</th>\n",
       "      <td>0</td>\n",
       "      <td>3</td>\n",
       "      <td>male</td>\n",
       "      <td>22.0</td>\n",
       "      <td>1</td>\n",
       "      <td>0</td>\n",
       "      <td>S</td>\n",
       "      <td>Young Adults</td>\n",
       "      <td>Family Passenger</td>\n",
       "    </tr>\n",
       "    <tr>\n",
       "      <th>1</th>\n",
       "      <td>1</td>\n",
       "      <td>1</td>\n",
       "      <td>female</td>\n",
       "      <td>38.0</td>\n",
       "      <td>1</td>\n",
       "      <td>0</td>\n",
       "      <td>C</td>\n",
       "      <td>Middle-aged Adults</td>\n",
       "      <td>Family Passenger</td>\n",
       "    </tr>\n",
       "    <tr>\n",
       "      <th>2</th>\n",
       "      <td>1</td>\n",
       "      <td>3</td>\n",
       "      <td>female</td>\n",
       "      <td>26.0</td>\n",
       "      <td>0</td>\n",
       "      <td>0</td>\n",
       "      <td>S</td>\n",
       "      <td>Young Adults</td>\n",
       "      <td>Solitary Passenger</td>\n",
       "    </tr>\n",
       "    <tr>\n",
       "      <th>3</th>\n",
       "      <td>1</td>\n",
       "      <td>1</td>\n",
       "      <td>female</td>\n",
       "      <td>35.0</td>\n",
       "      <td>1</td>\n",
       "      <td>0</td>\n",
       "      <td>S</td>\n",
       "      <td>Young Adults</td>\n",
       "      <td>Family Passenger</td>\n",
       "    </tr>\n",
       "    <tr>\n",
       "      <th>4</th>\n",
       "      <td>0</td>\n",
       "      <td>3</td>\n",
       "      <td>male</td>\n",
       "      <td>35.0</td>\n",
       "      <td>0</td>\n",
       "      <td>0</td>\n",
       "      <td>S</td>\n",
       "      <td>Young Adults</td>\n",
       "      <td>Solitary Passenger</td>\n",
       "    </tr>\n",
       "  </tbody>\n",
       "</table>\n",
       "</div>"
      ],
      "text/plain": [
       "   Survived  Pclass     Sex   Age  SibSp  Parch Embarked            AgeGroup  \\\n",
       "0         0       3    male  22.0      1      0        S        Young Adults   \n",
       "1         1       1  female  38.0      1      0        C  Middle-aged Adults   \n",
       "2         1       3  female  26.0      0      0        S        Young Adults   \n",
       "3         1       1  female  35.0      1      0        S        Young Adults   \n",
       "4         0       3    male  35.0      0      0        S        Young Adults   \n",
       "\n",
       "           FamilyType  \n",
       "0    Family Passenger  \n",
       "1    Family Passenger  \n",
       "2  Solitary Passenger  \n",
       "3    Family Passenger  \n",
       "4  Solitary Passenger  "
      ]
     },
     "metadata": {},
     "output_type": "display_data"
    }
   ],
   "source": [
    "# Function that returns the age group of a person per the table listed above based on his/her age\n",
    "def getAgeGroup(age):\n",
    "    if str(age) == \"\":\n",
    "        return None\n",
    "    elif age < 19:\n",
    "        return \"Children\"\n",
    "    elif age < 36:\n",
    "        return \"Young Adults\"\n",
    "    elif age < 56:\n",
    "        return \"Middle-aged Adults\"\n",
    "    else:\n",
    "        return \"Older Adults\"\n",
    "\n",
    "# Function that returns Family Type of a person based on count of family members\n",
    "def getFamilyType(count_of_members):\n",
    "    if str(count_of_members) == \"\" or count_of_members == 0:\n",
    "        return \"Solitary Passenger\"\n",
    "    else:\n",
    "        return \"Family Passenger\"\n",
    "\n",
    "# Create a subset of fields discibed above\n",
    "titanic_subset_data = titanic_data[[\"Survived\", \"Pclass\", \"Sex\", \"Age\", \"SibSp\", \"Parch\", \"Embarked\"]]\n",
    "\n",
    "# Add a new field AgeGroup in the titanic_subset_data df and populate this column using getAgeGroup function\n",
    "titanic_subset_data[\"AgeGroup\"] =  pd.Series(titanic_subset_data[\"Age\"].apply(getAgeGroup), \n",
    "                                                 index=titanic_subset_data.index)\n",
    "\n",
    "# Add a new field FamilyType in the titanic_subset_data df and populate this column using getFamilyType function\n",
    "titanic_subset_data[\"FamilyType\"] =  pd.Series((titanic_subset_data[\"SibSp\"] + \n",
    "                                                    titanic_subset_data[\"Parch\"]).apply(getFamilyType), \n",
    "                                                    index=titanic_subset_data.index)\n",
    "# Display a sample output of this data\n",
    "display(titanic_subset_data.head())"
   ]
  },
  {
   "cell_type": "markdown",
   "metadata": {},
   "source": [
    "We see that the two additional columns AgeGroup and FamilyType have been populated based on the classification functions we had defined. We now have a condensed dataframe for data analysis. Let's view summary statistics for this dataset."
   ]
  },
  {
   "cell_type": "code",
   "execution_count": 108,
   "metadata": {
    "collapsed": false
   },
   "outputs": [
    {
     "data": {
      "text/html": [
       "<div>\n",
       "<table border=\"1\" class=\"dataframe\">\n",
       "  <thead>\n",
       "    <tr style=\"text-align: right;\">\n",
       "      <th></th>\n",
       "      <th>Survived</th>\n",
       "      <th>Pclass</th>\n",
       "      <th>Age</th>\n",
       "      <th>SibSp</th>\n",
       "      <th>Parch</th>\n",
       "    </tr>\n",
       "  </thead>\n",
       "  <tbody>\n",
       "    <tr>\n",
       "      <th>count</th>\n",
       "      <td>891.000000</td>\n",
       "      <td>891.000000</td>\n",
       "      <td>714.000000</td>\n",
       "      <td>891.000000</td>\n",
       "      <td>891.000000</td>\n",
       "    </tr>\n",
       "    <tr>\n",
       "      <th>mean</th>\n",
       "      <td>0.383838</td>\n",
       "      <td>2.308642</td>\n",
       "      <td>29.699118</td>\n",
       "      <td>0.523008</td>\n",
       "      <td>0.381594</td>\n",
       "    </tr>\n",
       "    <tr>\n",
       "      <th>std</th>\n",
       "      <td>0.486592</td>\n",
       "      <td>0.836071</td>\n",
       "      <td>14.526497</td>\n",
       "      <td>1.102743</td>\n",
       "      <td>0.806057</td>\n",
       "    </tr>\n",
       "    <tr>\n",
       "      <th>min</th>\n",
       "      <td>0.000000</td>\n",
       "      <td>1.000000</td>\n",
       "      <td>0.420000</td>\n",
       "      <td>0.000000</td>\n",
       "      <td>0.000000</td>\n",
       "    </tr>\n",
       "    <tr>\n",
       "      <th>25%</th>\n",
       "      <td>0.000000</td>\n",
       "      <td>2.000000</td>\n",
       "      <td>NaN</td>\n",
       "      <td>0.000000</td>\n",
       "      <td>0.000000</td>\n",
       "    </tr>\n",
       "    <tr>\n",
       "      <th>50%</th>\n",
       "      <td>0.000000</td>\n",
       "      <td>3.000000</td>\n",
       "      <td>NaN</td>\n",
       "      <td>0.000000</td>\n",
       "      <td>0.000000</td>\n",
       "    </tr>\n",
       "    <tr>\n",
       "      <th>75%</th>\n",
       "      <td>1.000000</td>\n",
       "      <td>3.000000</td>\n",
       "      <td>NaN</td>\n",
       "      <td>1.000000</td>\n",
       "      <td>0.000000</td>\n",
       "    </tr>\n",
       "    <tr>\n",
       "      <th>max</th>\n",
       "      <td>1.000000</td>\n",
       "      <td>3.000000</td>\n",
       "      <td>80.000000</td>\n",
       "      <td>8.000000</td>\n",
       "      <td>6.000000</td>\n",
       "    </tr>\n",
       "  </tbody>\n",
       "</table>\n",
       "</div>"
      ],
      "text/plain": [
       "         Survived      Pclass         Age       SibSp       Parch\n",
       "count  891.000000  891.000000  714.000000  891.000000  891.000000\n",
       "mean     0.383838    2.308642   29.699118    0.523008    0.381594\n",
       "std      0.486592    0.836071   14.526497    1.102743    0.806057\n",
       "min      0.000000    1.000000    0.420000    0.000000    0.000000\n",
       "25%      0.000000    2.000000         NaN    0.000000    0.000000\n",
       "50%      0.000000    3.000000         NaN    0.000000    0.000000\n",
       "75%      1.000000    3.000000         NaN    1.000000    0.000000\n",
       "max      1.000000    3.000000   80.000000    8.000000    6.000000"
      ]
     },
     "metadata": {},
     "output_type": "display_data"
    }
   ],
   "source": [
    "# Display summary stats \n",
    "display(titanic_subset_data.describe())"
   ]
  },
  {
   "cell_type": "markdown",
   "metadata": {},
   "source": [
    "The summary matches the count of 891 records with about 38% of people surviving the shipwreck. We also see that for approximately 20% of passengers, we do not know the age.\n",
    "\n",
    "Let's plot the distribution of some of the variables:"
   ]
  },
  {
   "cell_type": "code",
   "execution_count": 109,
   "metadata": {
    "collapsed": false
   },
   "outputs": [
    {
     "data": {
      "image/png": "[encoded data removed]",
      "text/plain": [
       "<matplotlib.figure.Figure at 0xd7f1278>"
      ]
     },
     "metadata": {},
     "output_type": "display_data"
    },
    {
     "data": {
      "text/plain": [
       "count    714.000000\n",
       "mean      29.699118\n",
       "std       14.526497\n",
       "min        0.420000\n",
       "25%             NaN\n",
       "50%             NaN\n",
       "75%             NaN\n",
       "max       80.000000\n",
       "Name: Age, dtype: float64"
      ]
     },
     "metadata": {},
     "output_type": "display_data"
    }
   ],
   "source": [
    "# frequency distribution of passenger age\n",
    "\n",
    "plt.hist(titanic_subset_data.loc[:, \"Age\"].dropna(), color=\"y\")\n",
    "plt.xlabel(\"Age\")\n",
    "plt.xlabel(\"Frequency\")\n",
    "plt.title(\"Age distribution of passengers\")\n",
    "\n",
    "plt.show()\n",
    "# Display mean statistics by Class\n",
    "display(titanic_subset_data[\"Age\"].describe())\n"
   ]
  },
  {
   "cell_type": "markdown",
   "metadata": {},
   "source": [
    "The age distribution of passengers seems approximately normal with a mean value of 29.7 years and SD of 14.5 years.\n",
    "\n",
    "We will now view distribution of categorical variables Class and Sex"
   ]
  },
  {
   "cell_type": "code",
   "execution_count": 110,
   "metadata": {
    "collapsed": false
   },
   "outputs": [
    {
     "data": {
      "image/png": "[encoded data removed]",
      "text/plain": [
       "<matplotlib.figure.Figure at 0xda3acf8>"
      ]
     },
     "metadata": {},
     "output_type": "display_data"
    },
    {
     "data": {
      "text/plain": [
       "3    0.551066\n",
       "1    0.242424\n",
       "2    0.206510\n",
       "Name: Pclass, dtype: float64"
      ]
     },
     "metadata": {},
     "output_type": "display_data"
    },
    {
     "data": {
      "image/png": "[encoded data removed]",
      "text/plain": [
       "<matplotlib.figure.Figure at 0xbdbe278>"
      ]
     },
     "metadata": {},
     "output_type": "display_data"
    },
    {
     "data": {
      "text/plain": [
       "male      0.647587\n",
       "female    0.352413\n",
       "Name: Sex, dtype: float64"
      ]
     },
     "metadata": {},
     "output_type": "display_data"
    }
   ],
   "source": [
    "sns.set(style=\"darkgrid\")\n",
    "\n",
    "# Distribution of Class \n",
    "ax = sns.countplot(x=\"Pclass\", data=titanic_subset_data, palette=\"Set2\")\n",
    "ax.set(xlabel='Class',ylabel='Frequency', title = \"Distrubution of passengers by Class\")\n",
    "sns.plt.show()\n",
    "\n",
    "# Display proportion of passengers by Class\n",
    "display(titanic_subset_data[\"Pclass\"].value_counts(normalize=True))\n",
    "\n",
    "# Distribution of Sex \n",
    "ax = sns.countplot(x=\"Sex\", data=titanic_subset_data)\n",
    "ax.set(xlabel='Class',ylabel='Frequency', title = \"Distrubution of passengers by Sex\")\n",
    "sns.plt.show()\n",
    "\n",
    "# Display proportion of passengers by Sex\n",
    "display(titanic_subset_data[\"Sex\"].value_counts(normalize=True))"
   ]
  },
  {
   "cell_type": "markdown",
   "metadata": {},
   "source": [
    "Per the two plots and the associated proportion statistics, more than half of the passengers (55%) onboard belonged to lower class. Similarly, almost two-third of the passengers (65%) were male.\n",
    "\n",
    "We will now proceed to analyse this data to answer each of the questions in Section 1.1.\n",
    "\n",
    "###  2.1 What factors are related to survival chances?\n",
    "\n",
    "   #### 2.1.1 Which age group had the maximum chances of survival?\n",
    "\n",
    "We saw that there were 177 passengers for whom we don't have the age information. We can impute these missing values using the mean or median age for each sex or apply a regression model to simulate the value. However, for this project, we will remove these missing age passengers records and work with the other 80% of the dataset (which is substantial) to answer the questions related to age."
   ]
  },
  {
   "cell_type": "code",
   "execution_count": 111,
   "metadata": {
    "collapsed": false
   },
   "outputs": [],
   "source": [
    "# Remove rows which have no age data\n",
    "titanic_subset_data_with_valid_age = titanic_subset_data[titanic_subset_data[\"Age\"].notnull()]"
   ]
  },
  {
   "cell_type": "markdown",
   "metadata": {},
   "source": [
    "Let's plot the survival information for each age group of passengers"
   ]
  },
  {
   "cell_type": "code",
   "execution_count": 112,
   "metadata": {
    "collapsed": false
   },
   "outputs": [
    {
     "data": {
      "image/png": "[encoded data removed]",
      "text/plain": [
       "<matplotlib.figure.Figure at 0xd07a9b0>"
      ]
     },
     "metadata": {},
     "output_type": "display_data"
    },
    {
     "data": {
      "text/plain": [
       "AgeGroup\n",
       "Children              0.503597\n",
       "Middle-aged Adults    0.398876\n",
       "Older Adults          0.296296\n",
       "Young Adults          0.382682\n",
       "Name: Survived, dtype: float64"
      ]
     },
     "metadata": {},
     "output_type": "display_data"
    }
   ],
   "source": [
    "# barplot to visualize mean survival proportion by age group\n",
    "\n",
    "sns.set(style=\"darkgrid\")\n",
    "ax = sns.barplot(data=titanic_subset_data_with_valid_age,x=\"AgeGroup\",y=\"Survived\", palette=\"Set1\")\n",
    "ax.set(xlabel='Age Group',ylabel='Mean proportion of survivors', title = \"Mean proportion of survivors by Age Group\")\n",
    "sns.plt.show()\n",
    "\n",
    "# Display mean survival statistics by Age Group\n",
    "display(titanic_subset_data.groupby([\"AgeGroup\"])[\"Survived\"].mean())"
   ]
  },
  {
   "cell_type": "markdown",
   "metadata": {},
   "source": [
    "As is seen from the above plot and the summary statistics, children seem to have had the maximum survival rate with approximately 50% of them surviving. Older adults group have had the maximum casualities. It could be possible that the rescue of children was given priority over others. It is also possible that the older adults were relatively less agile to be able to survive the tragedy.\n",
    "\n",
    "   #### 2.1.2 How do class and sex figure in the chances of survival?\n",
    "\n",
    "Let's now plot the distribution of survivors by Class and Sex to see if we can draw any insights."
   ]
  },
  {
   "cell_type": "code",
   "execution_count": 113,
   "metadata": {
    "collapsed": false
   },
   "outputs": [
    {
     "data": {
      "image/png": "[encoded data removed]",
      "text/plain": [
       "<matplotlib.figure.Figure at 0xde5c0f0>"
      ]
     },
     "metadata": {},
     "output_type": "display_data"
    },
    {
     "data": {
      "text/plain": [
       "Sex\n",
       "female    0.742038\n",
       "male      0.188908\n",
       "Name: Survived, dtype: float64"
      ]
     },
     "metadata": {},
     "output_type": "display_data"
    },
    {
     "data": {
      "image/png": "[encoded data removed]",
      "text/plain": [
       "<matplotlib.figure.Figure at 0xd5e2eb8>"
      ]
     },
     "metadata": {},
     "output_type": "display_data"
    },
    {
     "data": {
      "text/plain": [
       "Pclass\n",
       "1    0.629630\n",
       "2    0.472826\n",
       "3    0.242363\n",
       "Name: Survived, dtype: float64"
      ]
     },
     "metadata": {},
     "output_type": "display_data"
    }
   ],
   "source": [
    "# barplot to visualize mean survival proportion by Sex\n",
    "ax = sns.barplot(data=titanic_subset_data,x=\"Sex\",y=\"Survived\", palette=\"Set1\")\n",
    "ax.set(xlabel='Sex',ylabel='Mean proportion of survivors', title = \"Mean proportion of survivors by Sex\")\n",
    "sns.plt.show()\n",
    "\n",
    "# Display mean survival statistics by Sex\n",
    "display(titanic_subset_data.groupby([\"Sex\"])[\"Survived\"].mean())\n",
    "\n",
    "# barplot to visualize mean survival proportion by Class\n",
    "ax = sns.barplot(data=titanic_subset_data,x=\"Pclass\",y=\"Survived\", palette=\"Set2\")\n",
    "ax.set(xlabel='Class',ylabel='Mean proportion of survivors', title = \"Mean proportion of survivors by Class\")\n",
    "sns.plt.show()\n",
    "\n",
    "# Display mean survival statistics by Class\n",
    "display(titanic_subset_data.groupby([\"Pclass\"])[\"Survived\"].mean())"
   ]
  },
  {
   "cell_type": "markdown",
   "metadata": {},
   "source": [
    "It is evident from the above two plots that females and upper class passengers have had a compartiviely high proportion of survival rates with former close to 75% and the later group close tp 63% of mean survivors. Like children, it is highly likely that women and upper class passengers were given priority in the rescue operations.\n",
    "\n",
    "   #### 2.1.3 Do passengers travelling alone have lesser chances of survival compared to passengers travelling with family?\n",
    "\n",
    "Let's plot the survival data based on the FamilyType classification"
   ]
  },
  {
   "cell_type": "code",
   "execution_count": 114,
   "metadata": {
    "collapsed": false
   },
   "outputs": [
    {
     "data": {
      "image/png": "[encoded data removed]",
      "text/plain": [
       "<matplotlib.figure.Figure at 0xda2f550>"
      ]
     },
     "metadata": {},
     "output_type": "display_data"
    },
    {
     "data": {
      "text/plain": [
       "FamilyType\n",
       "Family Passenger      0.505650\n",
       "Solitary Passenger    0.303538\n",
       "Name: Survived, dtype: float64"
      ]
     },
     "metadata": {},
     "output_type": "display_data"
    }
   ],
   "source": [
    "# barplot to visualize mean survival proportion by Passenger type\n",
    "ax = sns.barplot(data=titanic_subset_data,x=\"FamilyType\",y=\"Survived\", palette=\"Set3\")\n",
    "ax.set(xlabel='Passenger Type',ylabel='Mean proportion of survivors', \n",
    "             title = \"Mean proportion of survivors by Passenger Type\")\n",
    "sns.plt.show()\n",
    "\n",
    "# Display mean survival statistics by Passenger type\n",
    "display(titanic_subset_data.groupby([\"FamilyType\"])[\"Survived\"].mean())"
   ]
  },
  {
   "cell_type": "markdown",
   "metadata": {},
   "source": [
    "The plot and the associated summary statistics clearly show that family passengers have a significantly higher percentage of survival (~51%) compared to Solitary Passengers (~30%). We saw earlier that women and children might have been prioritoized in the rescue operation. It is possible that many of them (especially children) were travelling with their family and hence the family passengers proportion of survival is higher.\n",
    "\n",
    "###  2.2 What pattern can we see in the passenger class?\n",
    "\n",
    "   #### 2.2.1 Are upper class passengers relatively older than passengers from other classes?\n",
    "\n",
    "We will compare the age with class to answer this question"
   ]
  },
  {
   "cell_type": "code",
   "execution_count": 115,
   "metadata": {
    "collapsed": false
   },
   "outputs": [
    {
     "data": {
      "image/png": "[encoded data removed]",
      "text/plain": [
       "<matplotlib.figure.Figure at 0xdcdb4a8>"
      ]
     },
     "metadata": {},
     "output_type": "display_data"
    },
    {
     "data": {
      "text/plain": [
       "Pclass\n",
       "1    37.0\n",
       "2    29.0\n",
       "3    24.0\n",
       "Name: Age, dtype: float64"
      ]
     },
     "metadata": {},
     "output_type": "display_data"
    }
   ],
   "source": [
    "# barplot to visualize median age by Class\n",
    "ax = sns.boxplot(titanic_subset_data_with_valid_age[\"Age\"], \n",
    "                       groupby = titanic_subset_data_with_valid_age[\"Pclass\"], palette=\"Set3\")\n",
    "ax.set(xlabel='Class',ylabel='Age', title = \"Age by Class\")\n",
    "sns.plt.show()\n",
    "\n",
    "# Display median age by Passenger Class\n",
    "display(titanic_subset_data_with_valid_age.groupby([\"Pclass\"])[\"Age\"].median())"
   ]
  },
  {
   "cell_type": "markdown",
   "metadata": {},
   "source": [
    "The above plot and the associated median statistics do suggest that the median age of upper class passengers is higher (37 years) than that of the other two classes (24 years and 29 years) and in general the median age increases with class (lower to upper).\n",
    "\n",
    "   #### 2.2.2 How does the class vary between passengers embarking from different ports? \n",
    "\n",
    "Let's drop the records for which Port of Embarking is not available. There are only 2 records hence this will not have a significant impact on our analysis.-\n"
   ]
  },
  {
   "cell_type": "code",
   "execution_count": 116,
   "metadata": {
    "collapsed": false
   },
   "outputs": [
    {
     "data": {
      "image/png": "[encoded data removed]",
      "text/plain": [
       "<matplotlib.figure.Figure at 0xd4c6908>"
      ]
     },
     "metadata": {},
     "output_type": "display_data"
    },
    {
     "data": {
      "text/plain": [
       "Embarked  Pclass\n",
       "C         1          85\n",
       "          2          17\n",
       "          3          66\n",
       "Q         1           2\n",
       "          2           3\n",
       "          3          72\n",
       "S         1         127\n",
       "          2         164\n",
       "          3         353\n",
       "dtype: int64"
      ]
     },
     "metadata": {},
     "output_type": "display_data"
    }
   ],
   "source": [
    "# drop records that do not have Embarked information\n",
    "titanic_subset_data_with_valid_embarking_port = titanic_subset_data[titanic_subset_data[\"Embarked\"].notnull()]\n",
    "\n",
    "# factorplot to visualize number of pasengers embarking from each port across Classes\n",
    "ax = sns.factorplot(data = titanic_subset_data_with_valid_embarking_port, \n",
    "                          x=\"Pclass\", col=\"Embarked\", kind=\"count\", palette=\"Set1\")  \n",
    "ax.set(xlabel='Class',ylabel='# of Passengers')\n",
    "sns.plt.show()\n",
    "\n",
    "# Before getting disctribution count by class and port or embarking, we need to impute missing age data\n",
    "# as those will records automatically be excluded otherwise in groupby function.\n",
    "titanic_subset_data_with_padded_AGE_for_NAN = titanic_subset_data_with_valid_embarking_port.fillna(method=\"pad\")\n",
    "\n",
    "# Display count of passengers by class emabraked from each port\n",
    "display(titanic_subset_data_with_padded_AGE_for_NAN.groupby([\"Embarked\", \"Pclass\"]).size())"
   ]
  },
  {
   "cell_type": "markdown",
   "metadata": {},
   "source": [
    "The above plots and summary statistics indicate that we have signficantly higher proportion of 1st Class passengers embarking from Cherbourg (Embarked = C) as compared to Queenstown and Southampton which have predominantly 3rd class passengers embarking from these ports.\n",
    "\n",
    "## 3. Conclusion\n",
    "\n",
    "We have analyzed the titanic data on a number of variable(s), on a combination of factors and have made some observations. Following section lists out the limitations and asssumptions of this analysis:\n",
    "\n",
    "###  3.1 Limitation and Assumptions\n",
    "\n",
    "* Missing data - we saw that we have age information of only 714 passengers from a total of 891. We did analysis of passenger age in relation to survival rate, Class etc. Given that 20% is a substantial proportion, the analysis could have led to a totally different assertion if the age information was available for test of the passengers.\n",
    "* Sample size - Out of 2224 passengers/crew, our sample had data for only 891 passengers. We do not know how the sampling was (random, stratified etc) to ascertain if this sample is representative of the entire population. Moreover, our sample survival percentage was 38% (342/891) compared to the overall population surival percentage of 32% (722/2224), does not strengthen the sample being a true representation of the population.\n",
    "* Factors influencing survival chances - there are many factors like limited lifeboats to save passengers, missteps in wireless communication (see https://en.wikipedia.org/wiki/Sinking_of_the_RMS_Titanic) that influenced the survival chances. These factors have not been considered in our analysis thus limiting our observations.\n",
    "* Hypothesis Testing - while we have made assertions based on the data we have not statistically tested this data validate it. In the following section we will do a statistical test to validate if the survival proportion is independent of gender or not.\n",
    "\n",
    "### 3.2 Statistical Test\n",
    "\n",
    "In this section, we will do Pearson's chi-squared test for independence to validate if the relation between survival and gender is statistically significant. This test seems appropriate with the assumption the data followed simple random sampling, the variables under study were categorical, and the expected frequency count was at least 5 in each cell of the two-way table. It returns probability for the computed chi-squared distribution with the degree of freedom.\n",
    "\n",
    " - Probability of 0: It indicates that both categorical variable are dependent\n",
    " - Probability of 1: It shows that both variables are independent.\n",
    " - p-value 0.05: It indicates that the relationship between the variables is significant at 95% confidence."
   ]
  },
  {
   "cell_type": "code",
   "execution_count": 117,
   "metadata": {
    "collapsed": false
   },
   "outputs": [
    {
     "data": {
      "text/html": [
       "<div>\n",
       "<table border=\"1\" class=\"dataframe\">\n",
       "  <thead>\n",
       "    <tr style=\"text-align: right;\">\n",
       "      <th></th>\n",
       "      <th>female</th>\n",
       "      <th>male</th>\n",
       "    </tr>\n",
       "  </thead>\n",
       "  <tbody>\n",
       "    <tr>\n",
       "      <th>not survived</th>\n",
       "      <td>81</td>\n",
       "      <td>468</td>\n",
       "    </tr>\n",
       "    <tr>\n",
       "      <th>survived</th>\n",
       "      <td>233</td>\n",
       "      <td>109</td>\n",
       "    </tr>\n",
       "  </tbody>\n",
       "</table>\n",
       "</div>"
      ],
      "text/plain": [
       "              female  male\n",
       "not survived      81   468\n",
       "survived         233   109"
      ]
     },
     "metadata": {},
     "output_type": "display_data"
    },
    {
     "name": "stdout",
     "output_type": "stream",
     "text": [
      "Test Statistic: 260.717020167\n",
      "p-value: 1.19735706278e-58\n",
      "Degrees of Freedom: 1\n",
      "\n",
      "[[ 193.47474747  355.52525253]\n",
      " [ 120.52525253  221.47474747]]\n"
     ]
    }
   ],
   "source": [
    "# extract Survived and Sex column for performing chi-square test\n",
    "titanic_sex_survival_data = titanic_data.loc[: ,[\"Survived\", \"Sex\"]]\n",
    "\n",
    "# create frequency table for the two categorical avriables \n",
    "titanic_sex_survival_data_tab = pd.crosstab(titanic_sex_survival_data.Survived, \n",
    "                                            titanic_sex_survival_data.Sex, margins = True)\n",
    "\n",
    "# add row and column names\n",
    "titanic_sex_survival_data_tab.columns = [\"female\",\"male\",\"row_totals\"]\n",
    "titanic_sex_survival_data_tab.index = [\"not survived\",\"survived\", \"col_totals\"]\n",
    "\n",
    "# strip totals data\n",
    "survival_count_by_sex = titanic_sex_survival_data_tab.ix[0:2,0:2]   \n",
    "\n",
    "display(survival_count_by_sex)\n",
    "\n",
    "# perform chi-square test\n",
    "chi2, p, ddof, expected = stats.chi2_contingency(survival_count_by_sex)\n",
    "\n",
    "# print result\n",
    "msg = \"Test Statistic: {}\\np-value: {}\\nDegrees of Freedom: {}\\n\"\n",
    "\n",
    "print( msg.format( chi2, p, ddof ) )\n",
    "print(expected)"
   ]
  },
  {
   "cell_type": "markdown",
   "metadata": {},
   "source": [
    "Since their p values < 0.05, we can infer that the relation between survival and gender is statistically significant. We cannot however establish a causal relationship between the two because of the limitations and assumptions listed under section 3.1."
   ]
  }
 ],
 "metadata": {
  "anaconda-cloud": {},
  "kernelspec": {
   "display_name": "Python [Root]",
   "language": "python",
   "name": "Python [Root]"
  },
  "language_info": {
   "codemirror_mode": {
    "name": "ipython",
    "version": 2
   },
   "file_extension": ".py",
   "mimetype": "text/x-python",
   "name": "python",
   "nbconvert_exporter": "python",
   "pygments_lexer": "ipython2",
   "version": "2.7.12"
  }
 },
 "nbformat": 4,
 "nbformat_minor": 0
}
